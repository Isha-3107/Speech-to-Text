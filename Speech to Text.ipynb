{
 "cells": [
  {
   "cell_type": "code",
   "execution_count": 1,
   "id": "5e934bfa-1188-4842-88d6-3a2164cfe922",
   "metadata": {},
   "outputs": [],
   "source": [
    "import speech_recognition as sr"
   ]
  },
  {
   "cell_type": "code",
   "execution_count": 3,
   "id": "6a2a5c4c-a9f0-4006-95ef-9bf97eec2561",
   "metadata": {},
   "outputs": [],
   "source": [
    "def speech_to_text():\n",
    "    # Initialize the recognizer\n",
    "    recognizer = sr.Recognizer()\n",
    "    \n",
    "    # Use the microphone as the source for input\n",
    "    with sr.Microphone() as source:\n",
    "        print(\"Adjusting for ambient noise... Please wait.\")\n",
    "        recognizer.adjust_for_ambient_noise(source)  # Adjust for background noise\n",
    "        print(\"Listening... Please say something.\")\n",
    "        \n",
    "        # Capture the audio\n",
    "        audio = recognizer.listen(source)\n",
    "    \n",
    "    # Try recognizing the speech in the audio\n",
    "    try:\n",
    "        print(\"Recognizing...\")\n",
    "        # Convert speech to text using Google Speech Recognition\n",
    "        text = recognizer.recognize_google(audio)\n",
    "        print(\"You said:\", text)\n",
    "        return text\n",
    "    except sr.UnknownValueError:\n",
    "        print(\"Sorry, I couldn't understand the audio.\")\n",
    "    except sr.RequestError:\n",
    "        print(\"Could not request results from Google Speech Recognition service. Please check your internet connection.\")"
   ]
  },
  {
   "cell_type": "code",
   "execution_count": 5,
   "id": "2f94c621-d416-490a-81a0-c97ce90924cc",
   "metadata": {},
   "outputs": [
    {
     "name": "stdout",
     "output_type": "stream",
     "text": [
      "Adjusting for ambient noise... Please wait.\n",
      "Listening... Please say something.\n",
      "Recognizing...\n",
      "You said: hello\n"
     ]
    },
    {
     "data": {
      "text/plain": [
       "'hello'"
      ]
     },
     "execution_count": 5,
     "metadata": {},
     "output_type": "execute_result"
    }
   ],
   "source": [
    "# Call the function\n",
    "speech_to_text()"
   ]
  },
  {
   "cell_type": "code",
   "execution_count": null,
   "id": "6a57daa0-3b27-4b74-bfdb-aab34f095440",
   "metadata": {},
   "outputs": [],
   "source": []
  }
 ],
 "metadata": {
  "kernelspec": {
   "display_name": "Python 3 (ipykernel)",
   "language": "python",
   "name": "python3"
  },
  "language_info": {
   "codemirror_mode": {
    "name": "ipython",
    "version": 3
   },
   "file_extension": ".py",
   "mimetype": "text/x-python",
   "name": "python",
   "nbconvert_exporter": "python",
   "pygments_lexer": "ipython3",
   "version": "3.12.7"
  }
 },
 "nbformat": 4,
 "nbformat_minor": 5
}
